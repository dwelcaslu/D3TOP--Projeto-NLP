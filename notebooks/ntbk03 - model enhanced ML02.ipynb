{
 "cells": [
  {
   "cell_type": "code",
   "execution_count": 1,
   "id": "b149cce2-8af2-4764-aab8-41d495f3c723",
   "metadata": {},
   "outputs": [
    {
     "name": "stderr",
     "output_type": "stream",
     "text": [
      "[nltk_data] Downloading package stopwords to\n",
      "[nltk_data]     C:\\Users\\weldl\\AppData\\Roaming\\nltk_data...\n",
      "[nltk_data]   Package stopwords is already up-to-date!\n",
      "[nltk_data] Downloading package stopwords to\n",
      "[nltk_data]     C:\\Users\\weldl\\AppData\\Roaming\\nltk_data...\n",
      "[nltk_data]   Package stopwords is already up-to-date!\n",
      "[nltk_data] Downloading package rslp to\n",
      "[nltk_data]     C:\\Users\\weldl\\AppData\\Roaming\\nltk_data...\n",
      "[nltk_data]   Package rslp is already up-to-date!\n",
      "[nltk_data] Downloading package wordnet to\n",
      "[nltk_data]     C:\\Users\\weldl\\AppData\\Roaming\\nltk_data...\n",
      "[nltk_data]   Package wordnet is already up-to-date!\n",
      "[nltk_data] Downloading package omw-1.4 to\n",
      "[nltk_data]     C:\\Users\\weldl\\AppData\\Roaming\\nltk_data...\n",
      "[nltk_data]   Package omw-1.4 is already up-to-date!\n"
     ]
    }
   ],
   "source": [
    "import os,sys\n",
    "sys.path.append(\"../src/\")\n",
    "from collections import Counter\n",
    "\n",
    "import matplotlib.pyplot as plt\n",
    "import numpy as np\n",
    "import pandas as pd\n",
    "\n",
    "from sklearn.compose import ColumnTransformer\n",
    "from sklearn.ensemble import RandomForestClassifier\n",
    "from sklearn.feature_extraction.text import TfidfVectorizer\n",
    "from sklearn.feature_selection import VarianceThreshold\n",
    "from sklearn.impute import SimpleImputer\n",
    "from sklearn.linear_model import LogisticRegression\n",
    "from sklearn.metrics import classification_report\n",
    "from sklearn.model_selection import train_test_split, RandomizedSearchCV\n",
    "from sklearn.neighbors import KNeighborsClassifier\n",
    "from sklearn.pipeline import Pipeline\n",
    "from sklearn.preprocessing import OneHotEncoder, MinMaxScaler, LabelEncoder\n",
    "from sklearn.svm import SVC\n",
    "\n",
    "from imblearn.over_sampling import SMOTE, ADASYN\n",
    "import nltk\n",
    "from nltk.corpus import stopwords\n",
    "nltk.download('stopwords')\n",
    "\n",
    "import visualizations as visu\n",
    "import language as lang\n",
    "import evaluation as eval"
   ]
  },
  {
   "cell_type": "markdown",
   "id": "9551f23c-20b3-45de-8a4d-614cd7e01415",
   "metadata": {},
   "source": [
    "### Descrição do modelo\n",
    "- Proprocessamento melhorado: Melhorias NLP, TfidfVectorizer com ngram_range de 1 a 3 e 500 features tfidf;\n",
    "- Features adicionais além do texto do post;\n",
    "- Seleção de features com baixa variância;\n",
    "- Reequilibrio das classes com SMOTE;\n",
    "- Modelos de ML (sklearn) com Cross-validation."
   ]
  },
  {
   "cell_type": "code",
   "execution_count": null,
   "id": "c12e3657-349a-4634-bafc-ca2fd3135320",
   "metadata": {},
   "outputs": [],
   "source": []
  },
  {
   "cell_type": "markdown",
   "id": "db4070cc-1b5e-4eea-b3fa-4926ca5c7a29",
   "metadata": {},
   "source": [
    "## Loading data"
   ]
  },
  {
   "cell_type": "code",
   "execution_count": 2,
   "id": "8430cd2f-6f58-4f5b-905d-18052096fec2",
   "metadata": {},
   "outputs": [],
   "source": [
    "# Loading the data\n",
    "df_train = pd.read_csv('../data/Social Bias Frames/SBIC.v2.trn.csv')\n",
    "df_valid = pd.read_csv('../data/Social Bias Frames/SBIC.v2.dev.csv')\n",
    "df_test = pd.read_csv('../data/Social Bias Frames/SBIC.v2.tst.csv')"
   ]
  },
  {
   "cell_type": "code",
   "execution_count": null,
   "id": "fdc40833-b78c-4603-863c-a05354b45670",
   "metadata": {},
   "outputs": [],
   "source": []
  },
  {
   "cell_type": "markdown",
   "id": "60805f01-e6c2-4f2d-a45c-75655b642698",
   "metadata": {},
   "source": [
    "## Data Preparation:"
   ]
  },
  {
   "cell_type": "code",
   "execution_count": 3,
   "id": "6a4f859b-34b0-4ca8-a660-e3228ee1876c",
   "metadata": {},
   "outputs": [],
   "source": [
    "target_col = 'targetCategory'"
   ]
  },
  {
   "cell_type": "code",
   "execution_count": 4,
   "id": "2b9f8414-1553-4376-a546-2af76c6f0352",
   "metadata": {},
   "outputs": [
    {
     "name": "stdout",
     "output_type": "stream",
     "text": [
      "train data: (112900, 19)\n",
      "valid data: (16738, 19)\n",
      "test data: (17501, 19)\n"
     ]
    },
    {
     "data": {
      "text/plain": [
       "NaN         70406\n",
       "race        14987\n",
       "gender      10872\n",
       "culture      8843\n",
       "victim       2680\n",
       "disabled     2350\n",
       "social       1730\n",
       "body         1032\n",
       "Name: targetCategory, dtype: int64"
      ]
     },
     "execution_count": 4,
     "metadata": {},
     "output_type": "execute_result"
    }
   ],
   "source": [
    "print('train data:', df_train.shape)\n",
    "print('valid data:', df_valid.shape)\n",
    "print('test data:', df_test.shape)\n",
    "\n",
    "df_train[target_col].value_counts(dropna=False)"
   ]
  },
  {
   "cell_type": "code",
   "execution_count": 5,
   "id": "8e6e1533-b3fc-40aa-8633-6158793bf40c",
   "metadata": {},
   "outputs": [
    {
     "name": "stdout",
     "output_type": "stream",
     "text": [
      "train data: (42494, 19)\n",
      "valid data: (8166, 19)\n",
      "test data: (9200, 19)\n"
     ]
    }
   ],
   "source": [
    "# Dropping nan values:\n",
    "df_train = df_train.dropna(subset=[target_col]).reset_index(drop=True)\n",
    "df_valid = df_valid.dropna(subset=[target_col]).reset_index(drop=True)\n",
    "df_test = df_test.dropna(subset=[target_col]).reset_index(drop=True)\n",
    "\n",
    "print('train data:', df_train.shape)\n",
    "print('valid data:', df_valid.shape)\n",
    "print('test data:', df_test.shape)"
   ]
  },
  {
   "cell_type": "code",
   "execution_count": 6,
   "id": "70c3d4a7-2a41-4e13-97fe-e9a5369a347e",
   "metadata": {},
   "outputs": [
    {
     "name": "stdout",
     "output_type": "stream",
     "text": [
      "train data: (50660, 18)\n",
      "valid data: (9200, 18)\n"
     ]
    }
   ],
   "source": [
    "# Concating train and valid dataframes and splitting X and y arrays:\n",
    "df_train = pd.concat([df_train, df_valid], axis=0).reset_index(drop=True)\n",
    "\n",
    "X_train = df_train.drop(columns=[target_col])\n",
    "y_train = df_train[[target_col]]\n",
    "\n",
    "X_test = df_test.drop(columns=[target_col])\n",
    "y_test = df_test[[target_col]]\n",
    "\n",
    "print('train data:', X_train.shape)\n",
    "print('valid data:', X_test.shape)"
   ]
  },
  {
   "cell_type": "code",
   "execution_count": 7,
   "id": "8a9f1313-fb2e-4ee7-bad6-dca333061927",
   "metadata": {},
   "outputs": [
    {
     "name": "stderr",
     "output_type": "stream",
     "text": [
      "<ipython-input-7-b59cab9b584f>:3: SettingWithCopyWarning: \n",
      "A value is trying to be set on a copy of a slice from a DataFrame.\n",
      "Try using .loc[row_indexer,col_indexer] = value instead\n",
      "\n",
      "See the caveats in the documentation: https://pandas.pydata.org/pandas-docs/stable/user_guide/indexing.html#returning-a-view-versus-a-copy\n",
      "  y_train[target_col] = le.fit_transform(y_train[target_col])\n",
      "<ipython-input-7-b59cab9b584f>:4: SettingWithCopyWarning: \n",
      "A value is trying to be set on a copy of a slice from a DataFrame.\n",
      "Try using .loc[row_indexer,col_indexer] = value instead\n",
      "\n",
      "See the caveats in the documentation: https://pandas.pydata.org/pandas-docs/stable/user_guide/indexing.html#returning-a-view-versus-a-copy\n",
      "  y_test[target_col] = le.transform(y_test[target_col])\n"
     ]
    }
   ],
   "source": [
    "# Encoding the y targets:\n",
    "le = LabelEncoder()\n",
    "y_train[target_col] = le.fit_transform(y_train[target_col])\n",
    "y_test[target_col] = le.transform(y_test[target_col])"
   ]
  },
  {
   "cell_type": "code",
   "execution_count": null,
   "id": "84c542be-73a0-4b94-8fed-5a1161c5be8d",
   "metadata": {},
   "outputs": [],
   "source": []
  },
  {
   "cell_type": "markdown",
   "id": "1c7ec412-5d2f-4209-a519-38556eb43e96",
   "metadata": {},
   "source": [
    "## Pre-processing"
   ]
  },
  {
   "cell_type": "code",
   "execution_count": 8,
   "id": "ca2032c0-e989-499c-9258-8b18874ba4b2",
   "metadata": {},
   "outputs": [],
   "source": [
    "# Creating some features\n",
    "X_train['post_length'] = X_train['post'].apply(lambda x: len(x))\n",
    "X_train['post_length_no_spaces'] = X_train['post'].apply(lambda x: len(x) - x.count(\" \"))\n",
    "\n",
    "X_test['post_length'] = X_test['post'].apply(lambda x: len(x))\n",
    "X_test['post_length_no_spaces'] = X_test['post'].apply(lambda x: len(x) - x.count(\" \"))"
   ]
  },
  {
   "cell_type": "code",
   "execution_count": 9,
   "id": "f3c8ab00-1a85-4bd0-b389-87aa05ce72ed",
   "metadata": {},
   "outputs": [],
   "source": [
    "# Encoding text columns:\n",
    "en_stp_words = stopwords.words('english')\n",
    "max_features = 500\n",
    "\n",
    "def column_vectorizer(df_train, df_test, col, analyzer, max_features=100, stop_words=stopwords.words('english')):\n",
    "    corpus = df_train[col].values\n",
    "    vectorizer = TfidfVectorizer(analyzer=analyzer, max_features=max_features)\n",
    "    vectorizer.fit(corpus)\n",
    "\n",
    "    df_train_tfidf = vectorizer.transform(df_train[col])\n",
    "    tfidf_cols = [f'tfidf_{col}_{i}' for i in range(df_train_tfidf.shape[1])]\n",
    "    df_train_tfidf = pd.DataFrame(df_train_tfidf.toarray(), columns=tfidf_cols)\n",
    "    df_train = pd.concat([df_train, df_train_tfidf], axis=1)\n",
    "    df_test_tfidf = vectorizer.transform(df_test[col])\n",
    "    df_test_tfidf = pd.DataFrame(df_test_tfidf.toarray(), columns=tfidf_cols)\n",
    "    df_test = pd.concat([df_test, df_test_tfidf], axis=1)\n",
    "    \n",
    "    return df_train, df_test, tfidf_cols\n",
    "    \n",
    "# post text:\n",
    "X_train, X_test, tfidf_cols = column_vectorizer(X_train, X_test, 'post', analyzer=lang.clean_text_stem,\n",
    "                                                max_features=max_features, stop_words=en_stp_words)\n"
   ]
  },
  {
   "cell_type": "code",
   "execution_count": 10,
   "id": "5447676e-f62f-4d84-815a-530035e33228",
   "metadata": {},
   "outputs": [
    {
     "data": {
      "text/html": [
       "<div>\n",
       "<style scoped>\n",
       "    .dataframe tbody tr th:only-of-type {\n",
       "        vertical-align: middle;\n",
       "    }\n",
       "\n",
       "    .dataframe tbody tr th {\n",
       "        vertical-align: top;\n",
       "    }\n",
       "\n",
       "    .dataframe thead th {\n",
       "        text-align: right;\n",
       "    }\n",
       "</style>\n",
       "<table border=\"1\" class=\"dataframe\">\n",
       "  <thead>\n",
       "    <tr style=\"text-align: right;\">\n",
       "      <th></th>\n",
       "      <th>whoTarget</th>\n",
       "      <th>intentYN</th>\n",
       "      <th>sexYN</th>\n",
       "      <th>sexReason</th>\n",
       "      <th>offensiveYN</th>\n",
       "      <th>annotatorGender</th>\n",
       "      <th>annotatorMinority</th>\n",
       "      <th>sexPhrase</th>\n",
       "      <th>speakerMinorityYN</th>\n",
       "      <th>WorkerId</th>\n",
       "      <th>...</th>\n",
       "      <th>tfidf_post_490</th>\n",
       "      <th>tfidf_post_491</th>\n",
       "      <th>tfidf_post_492</th>\n",
       "      <th>tfidf_post_493</th>\n",
       "      <th>tfidf_post_494</th>\n",
       "      <th>tfidf_post_495</th>\n",
       "      <th>tfidf_post_496</th>\n",
       "      <th>tfidf_post_497</th>\n",
       "      <th>tfidf_post_498</th>\n",
       "      <th>tfidf_post_499</th>\n",
       "    </tr>\n",
       "  </thead>\n",
       "  <tbody>\n",
       "    <tr>\n",
       "      <th>0</th>\n",
       "      <td>1.0</td>\n",
       "      <td>1.00</td>\n",
       "      <td>0.0</td>\n",
       "      <td>NaN</td>\n",
       "      <td>1.0</td>\n",
       "      <td>man</td>\n",
       "      <td>NaN</td>\n",
       "      <td>NaN</td>\n",
       "      <td>0.0</td>\n",
       "      <td>-500114755446676507</td>\n",
       "      <td>...</td>\n",
       "      <td>0.0</td>\n",
       "      <td>0.0</td>\n",
       "      <td>0.0</td>\n",
       "      <td>0.0</td>\n",
       "      <td>0.0</td>\n",
       "      <td>0.0</td>\n",
       "      <td>0.0</td>\n",
       "      <td>0.0</td>\n",
       "      <td>0.0</td>\n",
       "      <td>0.0</td>\n",
       "    </tr>\n",
       "    <tr>\n",
       "      <th>1</th>\n",
       "      <td>1.0</td>\n",
       "      <td>1.00</td>\n",
       "      <td>0.0</td>\n",
       "      <td>NaN</td>\n",
       "      <td>1.0</td>\n",
       "      <td>man</td>\n",
       "      <td>NaN</td>\n",
       "      <td>NaN</td>\n",
       "      <td>0.0</td>\n",
       "      <td>-500114755446676507</td>\n",
       "      <td>...</td>\n",
       "      <td>0.0</td>\n",
       "      <td>0.0</td>\n",
       "      <td>0.0</td>\n",
       "      <td>0.0</td>\n",
       "      <td>0.0</td>\n",
       "      <td>0.0</td>\n",
       "      <td>0.0</td>\n",
       "      <td>0.0</td>\n",
       "      <td>0.0</td>\n",
       "      <td>0.0</td>\n",
       "    </tr>\n",
       "    <tr>\n",
       "      <th>2</th>\n",
       "      <td>1.0</td>\n",
       "      <td>1.00</td>\n",
       "      <td>0.0</td>\n",
       "      <td>NaN</td>\n",
       "      <td>1.0</td>\n",
       "      <td>woman</td>\n",
       "      <td>NaN</td>\n",
       "      <td>NaN</td>\n",
       "      <td>0.0</td>\n",
       "      <td>7912096326098817047</td>\n",
       "      <td>...</td>\n",
       "      <td>0.0</td>\n",
       "      <td>0.0</td>\n",
       "      <td>0.0</td>\n",
       "      <td>0.0</td>\n",
       "      <td>0.0</td>\n",
       "      <td>0.0</td>\n",
       "      <td>0.0</td>\n",
       "      <td>0.0</td>\n",
       "      <td>0.0</td>\n",
       "      <td>0.0</td>\n",
       "    </tr>\n",
       "    <tr>\n",
       "      <th>3</th>\n",
       "      <td>1.0</td>\n",
       "      <td>1.00</td>\n",
       "      <td>0.0</td>\n",
       "      <td>NaN</td>\n",
       "      <td>1.0</td>\n",
       "      <td>woman</td>\n",
       "      <td>NaN</td>\n",
       "      <td>NaN</td>\n",
       "      <td>0.0</td>\n",
       "      <td>7912096326098817047</td>\n",
       "      <td>...</td>\n",
       "      <td>0.0</td>\n",
       "      <td>0.0</td>\n",
       "      <td>0.0</td>\n",
       "      <td>0.0</td>\n",
       "      <td>0.0</td>\n",
       "      <td>0.0</td>\n",
       "      <td>0.0</td>\n",
       "      <td>0.0</td>\n",
       "      <td>0.0</td>\n",
       "      <td>0.0</td>\n",
       "    </tr>\n",
       "    <tr>\n",
       "      <th>4</th>\n",
       "      <td>1.0</td>\n",
       "      <td>1.00</td>\n",
       "      <td>0.0</td>\n",
       "      <td>NaN</td>\n",
       "      <td>1.0</td>\n",
       "      <td>woman</td>\n",
       "      <td>NaN</td>\n",
       "      <td>NaN</td>\n",
       "      <td>0.0</td>\n",
       "      <td>7912096326098817047</td>\n",
       "      <td>...</td>\n",
       "      <td>0.0</td>\n",
       "      <td>0.0</td>\n",
       "      <td>0.0</td>\n",
       "      <td>0.0</td>\n",
       "      <td>0.0</td>\n",
       "      <td>0.0</td>\n",
       "      <td>0.0</td>\n",
       "      <td>0.0</td>\n",
       "      <td>0.0</td>\n",
       "      <td>0.0</td>\n",
       "    </tr>\n",
       "    <tr>\n",
       "      <th>...</th>\n",
       "      <td>...</td>\n",
       "      <td>...</td>\n",
       "      <td>...</td>\n",
       "      <td>...</td>\n",
       "      <td>...</td>\n",
       "      <td>...</td>\n",
       "      <td>...</td>\n",
       "      <td>...</td>\n",
       "      <td>...</td>\n",
       "      <td>...</td>\n",
       "      <td>...</td>\n",
       "      <td>...</td>\n",
       "      <td>...</td>\n",
       "      <td>...</td>\n",
       "      <td>...</td>\n",
       "      <td>...</td>\n",
       "      <td>...</td>\n",
       "      <td>...</td>\n",
       "      <td>...</td>\n",
       "      <td>...</td>\n",
       "      <td>...</td>\n",
       "    </tr>\n",
       "    <tr>\n",
       "      <th>50655</th>\n",
       "      <td>1.0</td>\n",
       "      <td>0.66</td>\n",
       "      <td>0.0</td>\n",
       "      <td>NaN</td>\n",
       "      <td>1.0</td>\n",
       "      <td>woman</td>\n",
       "      <td>NaN</td>\n",
       "      <td>NaN</td>\n",
       "      <td>0.0</td>\n",
       "      <td>3169503690680674782</td>\n",
       "      <td>...</td>\n",
       "      <td>0.0</td>\n",
       "      <td>0.0</td>\n",
       "      <td>0.0</td>\n",
       "      <td>0.0</td>\n",
       "      <td>0.0</td>\n",
       "      <td>0.0</td>\n",
       "      <td>0.0</td>\n",
       "      <td>0.0</td>\n",
       "      <td>0.0</td>\n",
       "      <td>0.0</td>\n",
       "    </tr>\n",
       "    <tr>\n",
       "      <th>50656</th>\n",
       "      <td>1.0</td>\n",
       "      <td>1.00</td>\n",
       "      <td>0.0</td>\n",
       "      <td>NaN</td>\n",
       "      <td>1.0</td>\n",
       "      <td>woman</td>\n",
       "      <td>NaN</td>\n",
       "      <td>NaN</td>\n",
       "      <td>0.0</td>\n",
       "      <td>955703508749055793</td>\n",
       "      <td>...</td>\n",
       "      <td>0.0</td>\n",
       "      <td>0.0</td>\n",
       "      <td>0.0</td>\n",
       "      <td>0.0</td>\n",
       "      <td>0.0</td>\n",
       "      <td>0.0</td>\n",
       "      <td>0.0</td>\n",
       "      <td>0.0</td>\n",
       "      <td>0.0</td>\n",
       "      <td>0.0</td>\n",
       "    </tr>\n",
       "    <tr>\n",
       "      <th>50657</th>\n",
       "      <td>1.0</td>\n",
       "      <td>1.00</td>\n",
       "      <td>0.0</td>\n",
       "      <td>NaN</td>\n",
       "      <td>1.0</td>\n",
       "      <td>woman</td>\n",
       "      <td>NaN</td>\n",
       "      <td>NaN</td>\n",
       "      <td>0.0</td>\n",
       "      <td>955703508749055793</td>\n",
       "      <td>...</td>\n",
       "      <td>0.0</td>\n",
       "      <td>0.0</td>\n",
       "      <td>0.0</td>\n",
       "      <td>0.0</td>\n",
       "      <td>0.0</td>\n",
       "      <td>0.0</td>\n",
       "      <td>0.0</td>\n",
       "      <td>0.0</td>\n",
       "      <td>0.0</td>\n",
       "      <td>0.0</td>\n",
       "    </tr>\n",
       "    <tr>\n",
       "      <th>50658</th>\n",
       "      <td>1.0</td>\n",
       "      <td>0.66</td>\n",
       "      <td>0.0</td>\n",
       "      <td>NaN</td>\n",
       "      <td>1.0</td>\n",
       "      <td>woman</td>\n",
       "      <td>NaN</td>\n",
       "      <td>NaN</td>\n",
       "      <td>0.0</td>\n",
       "      <td>-6352039173957003457</td>\n",
       "      <td>...</td>\n",
       "      <td>0.0</td>\n",
       "      <td>0.0</td>\n",
       "      <td>0.0</td>\n",
       "      <td>0.0</td>\n",
       "      <td>0.0</td>\n",
       "      <td>0.0</td>\n",
       "      <td>0.0</td>\n",
       "      <td>0.0</td>\n",
       "      <td>0.0</td>\n",
       "      <td>0.0</td>\n",
       "    </tr>\n",
       "    <tr>\n",
       "      <th>50659</th>\n",
       "      <td>1.0</td>\n",
       "      <td>0.66</td>\n",
       "      <td>0.0</td>\n",
       "      <td>NaN</td>\n",
       "      <td>1.0</td>\n",
       "      <td>woman</td>\n",
       "      <td>NaN</td>\n",
       "      <td>NaN</td>\n",
       "      <td>0.0</td>\n",
       "      <td>-6352039173957003457</td>\n",
       "      <td>...</td>\n",
       "      <td>0.0</td>\n",
       "      <td>0.0</td>\n",
       "      <td>0.0</td>\n",
       "      <td>0.0</td>\n",
       "      <td>0.0</td>\n",
       "      <td>0.0</td>\n",
       "      <td>0.0</td>\n",
       "      <td>0.0</td>\n",
       "      <td>0.0</td>\n",
       "      <td>0.0</td>\n",
       "    </tr>\n",
       "  </tbody>\n",
       "</table>\n",
       "<p>50660 rows × 520 columns</p>\n",
       "</div>"
      ],
      "text/plain": [
       "       whoTarget  intentYN  sexYN sexReason  offensiveYN annotatorGender  \\\n",
       "0            1.0      1.00    0.0       NaN          1.0             man   \n",
       "1            1.0      1.00    0.0       NaN          1.0             man   \n",
       "2            1.0      1.00    0.0       NaN          1.0           woman   \n",
       "3            1.0      1.00    0.0       NaN          1.0           woman   \n",
       "4            1.0      1.00    0.0       NaN          1.0           woman   \n",
       "...          ...       ...    ...       ...          ...             ...   \n",
       "50655        1.0      0.66    0.0       NaN          1.0           woman   \n",
       "50656        1.0      1.00    0.0       NaN          1.0           woman   \n",
       "50657        1.0      1.00    0.0       NaN          1.0           woman   \n",
       "50658        1.0      0.66    0.0       NaN          1.0           woman   \n",
       "50659        1.0      0.66    0.0       NaN          1.0           woman   \n",
       "\n",
       "      annotatorMinority sexPhrase  speakerMinorityYN             WorkerId  \\\n",
       "0                   NaN       NaN                0.0  -500114755446676507   \n",
       "1                   NaN       NaN                0.0  -500114755446676507   \n",
       "2                   NaN       NaN                0.0  7912096326098817047   \n",
       "3                   NaN       NaN                0.0  7912096326098817047   \n",
       "4                   NaN       NaN                0.0  7912096326098817047   \n",
       "...                 ...       ...                ...                  ...   \n",
       "50655               NaN       NaN                0.0  3169503690680674782   \n",
       "50656               NaN       NaN                0.0   955703508749055793   \n",
       "50657               NaN       NaN                0.0   955703508749055793   \n",
       "50658               NaN       NaN                0.0 -6352039173957003457   \n",
       "50659               NaN       NaN                0.0 -6352039173957003457   \n",
       "\n",
       "       ... tfidf_post_490 tfidf_post_491 tfidf_post_492  tfidf_post_493  \\\n",
       "0      ...            0.0            0.0            0.0             0.0   \n",
       "1      ...            0.0            0.0            0.0             0.0   \n",
       "2      ...            0.0            0.0            0.0             0.0   \n",
       "3      ...            0.0            0.0            0.0             0.0   \n",
       "4      ...            0.0            0.0            0.0             0.0   \n",
       "...    ...            ...            ...            ...             ...   \n",
       "50655  ...            0.0            0.0            0.0             0.0   \n",
       "50656  ...            0.0            0.0            0.0             0.0   \n",
       "50657  ...            0.0            0.0            0.0             0.0   \n",
       "50658  ...            0.0            0.0            0.0             0.0   \n",
       "50659  ...            0.0            0.0            0.0             0.0   \n",
       "\n",
       "      tfidf_post_494 tfidf_post_495 tfidf_post_496 tfidf_post_497  \\\n",
       "0                0.0            0.0            0.0            0.0   \n",
       "1                0.0            0.0            0.0            0.0   \n",
       "2                0.0            0.0            0.0            0.0   \n",
       "3                0.0            0.0            0.0            0.0   \n",
       "4                0.0            0.0            0.0            0.0   \n",
       "...              ...            ...            ...            ...   \n",
       "50655            0.0            0.0            0.0            0.0   \n",
       "50656            0.0            0.0            0.0            0.0   \n",
       "50657            0.0            0.0            0.0            0.0   \n",
       "50658            0.0            0.0            0.0            0.0   \n",
       "50659            0.0            0.0            0.0            0.0   \n",
       "\n",
       "       tfidf_post_498  tfidf_post_499  \n",
       "0                 0.0             0.0  \n",
       "1                 0.0             0.0  \n",
       "2                 0.0             0.0  \n",
       "3                 0.0             0.0  \n",
       "4                 0.0             0.0  \n",
       "...               ...             ...  \n",
       "50655             0.0             0.0  \n",
       "50656             0.0             0.0  \n",
       "50657             0.0             0.0  \n",
       "50658             0.0             0.0  \n",
       "50659             0.0             0.0  \n",
       "\n",
       "[50660 rows x 520 columns]"
      ]
     },
     "execution_count": 10,
     "metadata": {},
     "output_type": "execute_result"
    }
   ],
   "source": [
    "X_train"
   ]
  },
  {
   "cell_type": "code",
   "execution_count": 11,
   "id": "1e4a8c95-1d9c-4803-9e7b-cf2c7cb7cda2",
   "metadata": {},
   "outputs": [],
   "source": [
    "# Encoding other columns:\n",
    "\n",
    "# Features groups:\n",
    "cat_features = ['dataSource']\n",
    "num_float_features = ['post_length', 'post_length_no_spaces']\n",
    "passthrough_features = [] + tfidf_cols\n",
    "\n",
    "# Features transformers:\n",
    "cat_transformer = ('cat', Pipeline([('cat_imputer', SimpleImputer(missing_values=np.nan, strategy='constant', fill_value='none')),\n",
    "                                    ('one-hot', OneHotEncoder(handle_unknown='ignore'))]), cat_features)\n",
    "num_float_transformer = ('num_float', Pipeline([('num_float_imputer', SimpleImputer(missing_values=np.nan, strategy='mean')), \n",
    "                                                ('num_float_scaler', MinMaxScaler()),]), num_float_features)\n",
    "passthrough_transformer = ('passthrough', 'passthrough', passthrough_features)\n",
    "\n",
    "transformers = [cat_transformer, num_float_transformer, passthrough_transformer]\n",
    "feat_encoding = ColumnTransformer(transformers, remainder='drop')"
   ]
  },
  {
   "cell_type": "code",
   "execution_count": 12,
   "id": "727a2376-f8b8-40c7-b807-f571ad404cad",
   "metadata": {},
   "outputs": [],
   "source": [
    "# Pre-processing pipeline:\n",
    "preprocessor = Pipeline([('features encoding', feat_encoding),\n",
    "                         ('feature selection var', VarianceThreshold(threshold=1e-3))])"
   ]
  },
  {
   "cell_type": "code",
   "execution_count": 13,
   "id": "ee6103bc-2510-490b-8a59-e1d5c5d11838",
   "metadata": {},
   "outputs": [],
   "source": [
    "X_train_encoded = preprocessor.fit_transform(X_train)\n",
    "X_test_encoded = preprocessor.transform(X_test.loc[:, X_train.columns])"
   ]
  },
  {
   "cell_type": "code",
   "execution_count": 14,
   "id": "e1bfaa15-08cf-43ef-b3d9-9565289373b9",
   "metadata": {},
   "outputs": [
    {
     "name": "stdout",
     "output_type": "stream",
     "text": [
      "X_train: (50660, 520)\n",
      "X_train_encoded: (50660, 470)\n"
     ]
    }
   ],
   "source": [
    "print('X_train:', X_train.shape)\n",
    "print('X_train_encoded:', X_train_encoded.shape)"
   ]
  },
  {
   "cell_type": "code",
   "execution_count": null,
   "id": "2cbb5869-9be5-46ae-bff9-5ddbff1e58a9",
   "metadata": {},
   "outputs": [],
   "source": []
  },
  {
   "cell_type": "markdown",
   "id": "81ac06ad-8584-41ec-af02-bf5bfe96edad",
   "metadata": {},
   "source": [
    "## Dealing with the imbalance:"
   ]
  },
  {
   "cell_type": "code",
   "execution_count": 15,
   "id": "64d6244a-713f-411c-8edc-8e8f9a28693b",
   "metadata": {},
   "outputs": [
    {
     "name": "stdout",
     "output_type": "stream",
     "text": [
      "[(0, 1219), (1, 10498), (2, 2746), (3, 12667), (4, 18562), (5, 2008), (6, 2960)]\n",
      "[(0, 18562), (1, 18562), (2, 18562), (3, 18562), (4, 18562), (5, 18562), (6, 18562)]\n"
     ]
    }
   ],
   "source": [
    "print(sorted(Counter(y_train[target_col]).items()))\n",
    "X_train_encoded, y_train = SMOTE().fit_resample(X_train_encoded, y_train[target_col])\n",
    "print(sorted(Counter(y_train).items()))"
   ]
  },
  {
   "cell_type": "code",
   "execution_count": null,
   "id": "6ca4603b-a178-496f-b0ba-211a5e955668",
   "metadata": {},
   "outputs": [],
   "source": []
  },
  {
   "cell_type": "markdown",
   "id": "9e94ed07-3524-43e2-bcf8-45d169df17a9",
   "metadata": {},
   "source": [
    "## Model Training"
   ]
  },
  {
   "cell_type": "code",
   "execution_count": 16,
   "id": "dd74b360-50db-447c-be3f-b7b9daefa17f",
   "metadata": {},
   "outputs": [],
   "source": [
    "n_jobs = 4\n",
    "n_iter = 50\n",
    "\n",
    "estimators_list = []"
   ]
  },
  {
   "cell_type": "code",
   "execution_count": 17,
   "id": "e4f41215-6beb-4fb4-8237-11f922d02a73",
   "metadata": {},
   "outputs": [
    {
     "name": "stdout",
     "output_type": "stream",
     "text": [
      "Fitting 5 folds for each of 50 candidates, totalling 250 fits\n"
     ]
    }
   ],
   "source": [
    "# Create the parameter grid based on the results of random search \n",
    "param_grid = {\n",
    "    'bootstrap': [True, False],\n",
    "    'max_depth': [5, 10, 20, 30, 40, 50],\n",
    "    'max_features': [\"auto\"],\n",
    "    'min_samples_leaf': [1, 2, 3, 4, 5, 6, 7, 8, 9, 10],\n",
    "    'min_samples_split': [8, 10, 12, 14, 16],\n",
    "    'n_estimators': [1, 5, 10, 20, 30, 40, 50],\n",
    "}\n",
    "\n",
    "# Create a based model\n",
    "rf = RandomForestClassifier()\n",
    "# Instantiate the grid search model\n",
    "clf_rf = RandomizedSearchCV(estimator=rf, param_distributions=param_grid,\n",
    "                         cv=5, n_jobs=n_jobs, verbose=2, n_iter=n_iter)\n",
    "clf_rf.fit(X_train_encoded, y_train)\n",
    "rf_metrics = pd.DataFrame(clf_rf.cv_results_)\n",
    "estimators_list.append(clf_rf)"
   ]
  },
  {
   "cell_type": "code",
   "execution_count": 18,
   "id": "70a60787-3b72-468c-b439-5ed5ccea2b53",
   "metadata": {},
   "outputs": [
    {
     "name": "stdout",
     "output_type": "stream",
     "text": [
      "Fitting 5 folds for each of 50 candidates, totalling 250 fits\n"
     ]
    },
    {
     "name": "stderr",
     "output_type": "stream",
     "text": [
      "C:\\Users\\weldl\\Miniconda3\\envs\\work\\lib\\site-packages\\sklearn\\model_selection\\_search.py:922: UserWarning: One or more of the test scores are non-finite: [0.57217535 0.71141527        nan 0.71023775 0.7113614  0.71036088\n",
      " 0.71139218 0.67576639 0.70960664 0.71039935 0.70668977 0.71043783\n",
      "        nan        nan 0.70960664        nan        nan 0.70967591\n",
      " 0.70371904        nan 0.69947072        nan 0.70666668 0.71036088\n",
      "        nan 0.67846003 0.41427994 0.58364275        nan        nan\n",
      " 0.7103301         nan 0.41431842 0.58366584 0.6757587         nan\n",
      "        nan 0.71053019 0.70670516 0.71125365        nan 0.41440308\n",
      " 0.41427994 0.70368056 0.70372674 0.70364208 0.71036088 0.56942784\n",
      "        nan        nan]\n",
      "  warnings.warn(\n"
     ]
    }
   ],
   "source": [
    "# Create the parameter grid based on the results of random search \n",
    "param_grid = {'C': [0.001, 0.01, 0.1, 1, 10, 100, 1000],\n",
    "              'penalty': ['l1', 'l2'],\n",
    "              'max_iter': list(range(100, 800, 100)),\n",
    "              'solver': ['newton-cg', 'lbfgs', 'liblinear', 'sag', 'saga']}\n",
    "\n",
    "# Create a based model\n",
    "lrc = LogisticRegression()\n",
    "# Instantiate the grid search model\n",
    "clf_lrc = RandomizedSearchCV(estimator=lrc, param_distributions=param_grid,\n",
    "                             cv=5, n_jobs=n_jobs, verbose=2, n_iter=n_iter)\n",
    "clf_lrc.fit(X_train_encoded, y_train)\n",
    "lrc_metrics = pd.DataFrame(clf_lrc.cv_results_)\n",
    "estimators_list.append(clf_lrc)"
   ]
  },
  {
   "cell_type": "code",
   "execution_count": 19,
   "id": "5d63586b-558c-4eab-9a2b-63eafb460601",
   "metadata": {},
   "outputs": [],
   "source": [
    "# # Create the parameter grid based on the results of random search \n",
    "# param_grid = {'metric': ['minkowski', 'euclidean', 'manhattan'],\n",
    "#               'weights': ['uniform', 'distance'],\n",
    "#               'n_neighbors': np.array([3, 4, 5, 6, 7, 8, 9])}\n",
    "\n",
    "# # Create a based model\n",
    "# knn = KNeighborsClassifier()\n",
    "# # Instantiate the grid search model\n",
    "# clf_knn = RandomizedSearchCV(estimator=knn, param_distributions=param_grid,\n",
    "#                              cv=5, n_jobs=n_jobs, verbose=2, n_iter=n_iter)\n",
    "# clf_knn.fit(X_train_encoded, y_train)\n",
    "# knn_metrics = pd.DataFrame(clf_knn.cv_results_)\n",
    "# estimators_list.append(clf_knn)"
   ]
  },
  {
   "cell_type": "code",
   "execution_count": 20,
   "id": "4cd5f70f-c33e-4fdf-b30d-35f260442e52",
   "metadata": {},
   "outputs": [
    {
     "name": "stderr",
     "output_type": "stream",
     "text": [
      "C:\\Users\\weldl\\Miniconda3\\envs\\work\\lib\\site-packages\\matplotlib\\cbook\\__init__.py:1376: VisibleDeprecationWarning: Creating an ndarray from ragged nested sequences (which is a list-or-tuple of lists-or-tuples-or ndarrays with different lengths or shapes) is deprecated. If you meant to do this, you must specify 'dtype=object' when creating the ndarray.\n",
      "  X = np.atleast_1d(X.T if isinstance(X, np.ndarray) else np.asarray(X))\n"
     ]
    },
    {
     "data": {
      "image/png": "[encoded data removed]",
      "text/plain": [
       "<Figure size 576x288 with 1 Axes>"
      ]
     },
     "metadata": {
      "needs_background": "light"
     },
     "output_type": "display_data"
    }
   ],
   "source": [
    "visu.plot_estimators_cvperf(estimators_list)"
   ]
  },
  {
   "cell_type": "code",
   "execution_count": 21,
   "id": "1f5da671-d6c8-4eda-b225-93f6fca6fe8a",
   "metadata": {},
   "outputs": [
    {
     "data": {
      "text/plain": [
       "RandomForestClassifier(bootstrap=False, max_depth=50, min_samples_split=8,\n",
       "                       n_estimators=30)"
      ]
     },
     "execution_count": 21,
     "metadata": {},
     "output_type": "execute_result"
    }
   ],
   "source": [
    "# Selecting the optimal model and Re-fiting with the whole training dataset:\n",
    "estimators_cvperf = [pd.DataFrame(estimator.cv_results_)['mean_test_score'].max() for estimator in estimators_list]\n",
    "clf_opt = estimators_list[np.argmax(estimators_cvperf)]\n",
    "\n",
    "model = clf_opt.best_estimator_.fit(X_train_encoded, y_train)\n",
    "model"
   ]
  },
  {
   "cell_type": "code",
   "execution_count": null,
   "id": "9205d5ba-2e06-4f1d-a3bf-94d1ba59d50a",
   "metadata": {},
   "outputs": [],
   "source": []
  },
  {
   "cell_type": "markdown",
   "id": "2bd46e1a-a83b-41c7-a5e4-8336ce91e265",
   "metadata": {},
   "source": [
    "## Evaluating the model"
   ]
  },
  {
   "cell_type": "code",
   "execution_count": 22,
   "id": "0257a908-e090-4bd6-821f-757145da4241",
   "metadata": {},
   "outputs": [
    {
     "data": {
      "text/plain": [
       "array(['body', 'culture', 'disabled', 'gender', 'race', 'social',\n",
       "       'victim'], dtype=object)"
      ]
     },
     "execution_count": 22,
     "metadata": {},
     "output_type": "execute_result"
    }
   ],
   "source": [
    "TARGET_NAMES = le.classes_\n",
    "TARGET_NAMES"
   ]
  },
  {
   "cell_type": "code",
   "execution_count": 23,
   "id": "ef6a7745-2ade-4ea8-a86d-ab2e74922a53",
   "metadata": {},
   "outputs": [
    {
     "name": "stdout",
     "output_type": "stream",
     "text": [
      "Classes evaluated: ['body', 'culture', 'disabled', 'gender', 'race', 'social', 'victim']\n",
      "Correctly classified......: 6571/9200\n",
      "Accuracy (simple) ........: 0.71\n",
      "Balanced acc.  ...........: 0.60\n",
      "Balanced acc. (adjusted)..: 0.53\n",
      "Acc. norm (Recall avgs) ..: 0.60\n",
      "Precision = tp / (tp + fp): [0.56 0.77 0.42 0.8  0.92 0.41 0.14] -> accuracy of positive predictions\n",
      "Recall    = tp / (tp + fn): [0.46 0.71 0.43 0.76 0.76 0.55 0.51] -> sensibility (true positive rate)\n",
      "F1 score .................: [0.51 0.74 0.42 0.78 0.83 0.47 0.22] -> harmonic mean\n"
     ]
    },
    {
     "data": {
      "image/png": "[encoded data removed]",
      "text/plain": [
       "<Figure size 1008x576 with 4 Axes>"
      ]
     },
     "metadata": {
      "needs_background": "light"
     },
     "output_type": "display_data"
    },
    {
     "data": {
      "text/html": [
       "<div>\n",
       "<style scoped>\n",
       "    .dataframe tbody tr th:only-of-type {\n",
       "        vertical-align: middle;\n",
       "    }\n",
       "\n",
       "    .dataframe tbody tr th {\n",
       "        vertical-align: top;\n",
       "    }\n",
       "\n",
       "    .dataframe thead th {\n",
       "        text-align: right;\n",
       "    }\n",
       "</style>\n",
       "<table border=\"1\" class=\"dataframe\">\n",
       "  <thead>\n",
       "    <tr style=\"text-align: right;\">\n",
       "      <th></th>\n",
       "      <th>accuracy</th>\n",
       "      <th>balanced_accuracy</th>\n",
       "      <th>balanced_accuracy adjusted</th>\n",
       "      <th>precision</th>\n",
       "      <th>recall</th>\n",
       "      <th>f1_score</th>\n",
       "    </tr>\n",
       "  </thead>\n",
       "  <tbody>\n",
       "    <tr>\n",
       "      <th>0</th>\n",
       "      <td>0.71</td>\n",
       "      <td>0.60</td>\n",
       "      <td>0.53</td>\n",
       "      <td>0.56</td>\n",
       "      <td>0.46</td>\n",
       "      <td>0.51</td>\n",
       "    </tr>\n",
       "    <tr>\n",
       "      <th>1</th>\n",
       "      <td>0.71</td>\n",
       "      <td>0.60</td>\n",
       "      <td>0.53</td>\n",
       "      <td>0.77</td>\n",
       "      <td>0.71</td>\n",
       "      <td>0.74</td>\n",
       "    </tr>\n",
       "    <tr>\n",
       "      <th>2</th>\n",
       "      <td>0.71</td>\n",
       "      <td>0.60</td>\n",
       "      <td>0.53</td>\n",
       "      <td>0.42</td>\n",
       "      <td>0.43</td>\n",
       "      <td>0.42</td>\n",
       "    </tr>\n",
       "    <tr>\n",
       "      <th>3</th>\n",
       "      <td>0.71</td>\n",
       "      <td>0.60</td>\n",
       "      <td>0.53</td>\n",
       "      <td>0.80</td>\n",
       "      <td>0.76</td>\n",
       "      <td>0.78</td>\n",
       "    </tr>\n",
       "    <tr>\n",
       "      <th>4</th>\n",
       "      <td>0.71</td>\n",
       "      <td>0.60</td>\n",
       "      <td>0.53</td>\n",
       "      <td>0.92</td>\n",
       "      <td>0.76</td>\n",
       "      <td>0.83</td>\n",
       "    </tr>\n",
       "    <tr>\n",
       "      <th>5</th>\n",
       "      <td>0.71</td>\n",
       "      <td>0.60</td>\n",
       "      <td>0.53</td>\n",
       "      <td>0.41</td>\n",
       "      <td>0.55</td>\n",
       "      <td>0.47</td>\n",
       "    </tr>\n",
       "    <tr>\n",
       "      <th>6</th>\n",
       "      <td>0.71</td>\n",
       "      <td>0.60</td>\n",
       "      <td>0.53</td>\n",
       "      <td>0.14</td>\n",
       "      <td>0.51</td>\n",
       "      <td>0.22</td>\n",
       "    </tr>\n",
       "  </tbody>\n",
       "</table>\n",
       "</div>"
      ],
      "text/plain": [
       "  accuracy balanced_accuracy balanced_accuracy adjusted  precision  recall  \\\n",
       "0     0.71              0.60                       0.53       0.56    0.46   \n",
       "1     0.71              0.60                       0.53       0.77    0.71   \n",
       "2     0.71              0.60                       0.53       0.42    0.43   \n",
       "3     0.71              0.60                       0.53       0.80    0.76   \n",
       "4     0.71              0.60                       0.53       0.92    0.76   \n",
       "5     0.71              0.60                       0.53       0.41    0.55   \n",
       "6     0.71              0.60                       0.53       0.14    0.51   \n",
       "\n",
       "   f1_score  \n",
       "0      0.51  \n",
       "1      0.74  \n",
       "2      0.42  \n",
       "3      0.78  \n",
       "4      0.83  \n",
       "5      0.47  \n",
       "6      0.22  "
      ]
     },
     "execution_count": 23,
     "metadata": {},
     "output_type": "execute_result"
    }
   ],
   "source": [
    "y_pred_test = model.predict(X_test_encoded)\n",
    "y_true_test = y_test[target_col].values\n",
    "\n",
    "results = eval.performance_measures(y_true_test, y_pred_test, TARGET_NAMES)\n",
    "results = pd.DataFrame(results)\n",
    "results"
   ]
  },
  {
   "cell_type": "code",
   "execution_count": 24,
   "id": "ab719755-e103-4e9e-8720-925fdf983440",
   "metadata": {},
   "outputs": [
    {
     "name": "stderr",
     "output_type": "stream",
     "text": [
      "../src\\evaluation.py:149: MatplotlibDeprecationWarning: \n",
      "The tick1On function was deprecated in Matplotlib 3.1 and will be removed in 3.3. Use Tick.tick1line.set_visible instead.\n",
      "  t.tick1On = False\n",
      "../src\\evaluation.py:150: MatplotlibDeprecationWarning: \n",
      "The tick2On function was deprecated in Matplotlib 3.1 and will be removed in 3.3. Use Tick.tick2line.set_visible instead.\n",
      "  t.tick2On = False\n",
      "../src\\evaluation.py:152: MatplotlibDeprecationWarning: \n",
      "The tick1On function was deprecated in Matplotlib 3.1 and will be removed in 3.3. Use Tick.tick1line.set_visible instead.\n",
      "  t.tick1On = False\n",
      "../src\\evaluation.py:153: MatplotlibDeprecationWarning: \n",
      "The tick2On function was deprecated in Matplotlib 3.1 and will be removed in 3.3. Use Tick.tick2line.set_visible instead.\n",
      "  t.tick2On = False\n"
     ]
    },
    {
     "data": {
      "image/png": "[encoded data removed]",
      "text/plain": [
       "<Figure size 708.661x396.85 with 2 Axes>"
      ]
     },
     "metadata": {
      "needs_background": "light"
     },
     "output_type": "display_data"
    }
   ],
   "source": [
    "eval.plot_classification_report(classification_report(y_true_test, y_pred_test, target_names=TARGET_NAMES))"
   ]
  },
  {
   "cell_type": "code",
   "execution_count": null,
   "id": "ea6c4cc7-5951-4fa5-9aff-f8d76ffae8f9",
   "metadata": {},
   "outputs": [],
   "source": []
  }
 ],
 "metadata": {
  "kernelspec": {
   "display_name": "Python 3",
   "language": "python",
   "name": "python3"
  },
  "language_info": {
   "codemirror_mode": {
    "name": "ipython",
    "version": 3
   },
   "file_extension": ".py",
   "mimetype": "text/x-python",
   "name": "python",
   "nbconvert_exporter": "python",
   "pygments_lexer": "ipython3",
   "version": "3.8.5"
  }
 },
 "nbformat": 4,
 "nbformat_minor": 5
}
